{
  "metadata": {
    "kernelspec": {
      "name": "python",
      "display_name": "Python (Pyodide)",
      "language": "python"
    },
    "language_info": {
      "codemirror_mode": {
        "name": "python",
        "version": 3
      },
      "file_extension": ".py",
      "mimetype": "text/x-python",
      "name": "python",
      "nbconvert_exporter": "python",
      "pygments_lexer": "ipython3",
      "version": "3.8"
    }
  },
  "nbformat_minor": 4,
  "nbformat": 4,
  "cells": [
    {
      "cell_type": "markdown",
      "source": "<p style=\"text-align:center\">\n    <a href=\"https://skills.network/?utm_medium=Exinfluencer&utm_source=Exinfluencer&utm_content=000026UJ&utm_term=10006555&utm_id=NA-SkillsNetwork-Channel-SkillsNetworkCoursesIBMDeveloperSkillsNetworkST0151ENSkillsNetwork20531532-2022-01-01\" target=\"_blank\">\n    <img src=\"https://cf-courses-data.s3.us.cloud-object-storage.appdomain.cloud/assets/logos/SN_web_lightmode.png\" width=\"200\" alt=\"Skills Network Logo\"  />\n    </a>\n</p>\n\n",
      "metadata": {}
    },
    {
      "cell_type": "markdown",
      "source": "#### Import the required libraries we need for the lab.\n",
      "metadata": {}
    },
    {
      "cell_type": "code",
      "source": "import piplite\nawait piplite.install(['numpy'],['pandas'])\nawait piplite.install(['seaborn'])",
      "metadata": {
        "trusted": true
      },
      "outputs": [],
      "execution_count": 6
    },
    {
      "cell_type": "code",
      "source": "import pandas as pd\nimport pandas as pd\nimport seaborn as sns\nimport matplotlib.pyplot as pyplot\nimport scipy.stats\nimport statsmodels.api as sm\nfrom statsmodels.formula.api import ols",
      "metadata": {
        "trusted": true
      },
      "outputs": [],
      "execution_count": null
    },
    {
      "cell_type": "markdown",
      "source": "#### Read the dataset in the csv file from the URL\n",
      "metadata": {}
    },
    {
      "cell_type": "code",
      "source": "from js import fetch\nimport io\n\nURL = 'https://cf-courses-data.s3.us.cloud-object-storage.appdomain.cloud/IBMDeveloperSkillsNetwork-ST0151EN-SkillsNetwork/labs/boston_housing.csv'\nresp = await fetch(URL)\nboston_url = io.BytesIO((await resp.arrayBuffer()).to_py())",
      "metadata": {
        "trusted": true
      },
      "outputs": [],
      "execution_count": null
    },
    {
      "cell_type": "code",
      "source": "boston_df=pd.read_csv(boston_url)",
      "metadata": {
        "trusted": true
      },
      "outputs": [],
      "execution_count": null
    },
    {
      "cell_type": "markdown",
      "source": "#### Add your code below following the instructions given in the course to complete the peer graded assignment\n",
      "metadata": {}
    },
    {
      "cell_type": "code",
      "source": "boston_df.head()",
      "metadata": {
        "trusted": true
      },
      "outputs": [],
      "execution_count": null
    },
    {
      "cell_type": "code",
      "source": "boston_df.shape",
      "metadata": {
        "trusted": true
      },
      "outputs": [],
      "execution_count": null
    },
    {
      "cell_type": "code",
      "source": "boston_df.info()",
      "metadata": {
        "trusted": true
      },
      "outputs": [],
      "execution_count": null
    },
    {
      "cell_type": "code",
      "source": "boston_df.describe()",
      "metadata": {
        "trusted": true
      },
      "outputs": [],
      "execution_count": null
    },
    {
      "cell_type": "code",
      "source": "# Boxplot for MEDV\n# Create a boxplot for the MEDV variable\npyplot.figure(figsize=(8,6))\nsns.boxplot(y=boston_df['MEDV'])\n# Add title and label\npyplot.title('Boxplot of Median Value of Owner-Occupied Homes (MEDV)')\npyplot.ylabel('Median Value (in $1000s)')\n# Show the plot\npyplot.show()\n\n# Explanation:\n# - The box shows the middle 50% of the data (IQR).\n# - The line in the box is the median (middle value).",
      "metadata": {
        "trusted": true
      },
      "outputs": [],
      "execution_count": null
    },
    {
      "cell_type": "code",
      "source": "# Calculate counts for CHAS (0 and 1)\nchas_counts = boston_df['CHAS'].value_counts().reset_index()\nchas_counts.columns = ['CHAS', 'Count']\n\n# Bar plot for CHAS\npyplot.figure(figsize=(8,6))\nsns.barplot(x='CHAS', y='Count', data=chas_counts)\n\n# Add title and axis labels\npyplot.title('Bar Plot of Homes Bounded by the Charles River (CHAS)')\npyplot.xlabel('Charles River (1 = Yes, 0 = No)')\npyplot.ylabel('Count')\n\n# Show the plot\npyplot.show()\n\n# Explanation:\n# - The bar plot shows the number of homes near the Charles River (CHAS = 1) and those that are not (CHAS = 0).\n# - The height of the bars represents the count of homes in each category.\n",
      "metadata": {
        "trusted": true
      },
      "outputs": [],
      "execution_count": null
    },
    {
      "cell_type": "code",
      "source": "# Create age groups based on the AGE variable\nboston_df['AGE_Group'] = pd.cut(boston_df['AGE'], bins=[0, 35, 70, 100], labels=['35 years and younger', 'Between 35 and 70', '70 years and older'])\n\n# Boxplot for MEDV vs AGE_Group\npyplot.figure(figsize=(8,6))\nsns.boxplot(x='AGE_Group', y='MEDV', data=boston_df)\n\n# Add title and axis labels\npyplot.title('Boxplot of Median Home Values (MEDV) by Age Groups')\npyplot.xlabel('Age Group')\npyplot.ylabel('Median Value (in $1000s)')\n\n# Show the plot\npyplot.show()\n\n# Explanation:\n# - The AGE variable is divided into three groups based on the age of homes.\n# - The boxplot displays the distribution of median home values (MEDV) for each age group.\n# - The box represents the middle 50% of the values, and the line inside is the median.\n",
      "metadata": {
        "trusted": true
      },
      "outputs": [],
      "execution_count": null
    },
    {
      "cell_type": "code",
      "source": "# Scatter plot for NOX vs INDUS\npyplot.figure(figsize=(8,6))\nsns.scatterplot(x='INDUS', y='NOX', data=boston_df)\n\n# Add title and axis labels\npyplot.title('Scatter Plot of Nitric Oxide Concentrations (NOX) vs Non-Retail Business Acres (INDUS)')\npyplot.xlabel('Proportion of Non-Retail Business Acres (INDUS)')\npyplot.ylabel('Nitric Oxides Concentration (NOX)')\n\n# Show the plot\npyplot.show()\n\n# Explanation:\n# - This scatter plot shows the relationship between nitric oxide concentrations (NOX) and the proportion of non-retail business acres (INDUS).\n# - Each point represents a data observation, with the x-axis showing INDUS and the y-axis showing NOX.\n# - A visible trend can indicate if there's a correlation between business activity and pollution levels.\n",
      "metadata": {
        "trusted": true
      },
      "outputs": [],
      "execution_count": null
    },
    {
      "cell_type": "code",
      "source": "# Histogram for PTRATIO\npyplot.figure(figsize=(8,6))\nsns.histplot(boston_df['PTRATIO'], bins=15, kde=False)\n\n# Add title and axis labels\npyplot.title('Histogram of Pupil to Teacher Ratio (PTRATIO)')\npyplot.xlabel('Pupil to Teacher Ratio')\npyplot.ylabel('Frequency')\n\n# Show the plot\npyplot.show()\n\n# Explanation:\n# - This histogram displays the distribution of the pupil-to-teacher ratio (PTRATIO).\n# - The x-axis represents the different ratios, while the y-axis shows the frequency of those ratios in the dataset.\n# - It helps to visualize how pupil-teacher ratios are distributed across different schools or districts.\n",
      "metadata": {
        "trusted": true
      },
      "outputs": [],
      "execution_count": null
    },
    {
      "cell_type": "code",
      "source": "",
      "metadata": {
        "trusted": true
      },
      "outputs": [],
      "execution_count": null
    }
  ]
}